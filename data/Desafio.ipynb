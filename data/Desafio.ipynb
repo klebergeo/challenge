{
 "cells": [
  {
   "cell_type": "code",
   "execution_count": 229,
   "metadata": {},
   "outputs": [],
   "source": [
    "#importando as bibliotecas#\n",
    "import pandas as pd\n",
    "import datetime as dt\n",
    "from matplotlib import pyplot as plt"
   ]
  },
  {
   "cell_type": "code",
   "execution_count": 46,
   "metadata": {},
   "outputs": [
    {
     "data": {
      "text/html": [
       "<div>\n",
       "<style scoped>\n",
       "    .dataframe tbody tr th:only-of-type {\n",
       "        vertical-align: middle;\n",
       "    }\n",
       "\n",
       "    .dataframe tbody tr th {\n",
       "        vertical-align: top;\n",
       "    }\n",
       "\n",
       "    .dataframe thead th {\n",
       "        text-align: right;\n",
       "    }\n",
       "</style>\n",
       "<table border=\"1\" class=\"dataframe\">\n",
       "  <thead>\n",
       "    <tr style=\"text-align: right;\">\n",
       "      <th></th>\n",
       "      <th>Atributos em comum para os datasets netflix_titles.csv e amazon_prime_titles.csv</th>\n",
       "    </tr>\n",
       "  </thead>\n",
       "  <tbody>\n",
       "    <tr>\n",
       "      <th>0</th>\n",
       "      <td>1 show_id - Unique ID for every Movie / Tv Show</td>\n",
       "    </tr>\n",
       "    <tr>\n",
       "      <th>1</th>\n",
       "      <td>2 type - Identifier - A Movie or TV Show</td>\n",
       "    </tr>\n",
       "    <tr>\n",
       "      <th>2</th>\n",
       "      <td>3 title - Title of the Movie / Tv Show</td>\n",
       "    </tr>\n",
       "    <tr>\n",
       "      <th>3</th>\n",
       "      <td>4 director - Director of the Movie</td>\n",
       "    </tr>\n",
       "    <tr>\n",
       "      <th>4</th>\n",
       "      <td>5 cast - Actors involved in the movie / show</td>\n",
       "    </tr>\n",
       "    <tr>\n",
       "      <th>5</th>\n",
       "      <td>6 country - Country where the movie / show was...</td>\n",
       "    </tr>\n",
       "    <tr>\n",
       "      <th>6</th>\n",
       "      <td>7 data_added - Date it was added on Netflix or...</td>\n",
       "    </tr>\n",
       "    <tr>\n",
       "      <th>7</th>\n",
       "      <td>8 release_year - Actual Release year of the mo...</td>\n",
       "    </tr>\n",
       "    <tr>\n",
       "      <th>8</th>\n",
       "      <td>9 rating - TV Rating of the movie / show</td>\n",
       "    </tr>\n",
       "    <tr>\n",
       "      <th>9</th>\n",
       "      <td>10 duration - Total Duration - in minutes or n...</td>\n",
       "    </tr>\n",
       "  </tbody>\n",
       "</table>\n",
       "</div>"
      ],
      "text/plain": [
       "  Atributos em comum para os datasets netflix_titles.csv e amazon_prime_titles.csv\n",
       "0    1 show_id - Unique ID for every Movie / Tv Show                              \n",
       "1           2 type - Identifier - A Movie or TV Show                              \n",
       "2             3 title - Title of the Movie / Tv Show                              \n",
       "3                 4 director - Director of the Movie                              \n",
       "4       5 cast - Actors involved in the movie / show                              \n",
       "5  6 country - Country where the movie / show was...                              \n",
       "6  7 data_added - Date it was added on Netflix or...                              \n",
       "7  8 release_year - Actual Release year of the mo...                              \n",
       "8          9 rating - TV Rating of the movie / show                               \n",
       "9  10 duration - Total Duration - in minutes or n...                              "
      ]
     },
     "execution_count": 46,
     "metadata": {},
     "output_type": "execute_result"
    }
   ],
   "source": [
    "#leitura dos atributos comuns às duas bases#\n",
    "\n",
    "with open('attributes.txt', 'r') as atributos:\n",
    "    atributos.read()\n",
    "\n",
    "dfa = pd.read_csv('attributes.txt')\n",
    "dfa.rename(columns={'# Attributes for both netflix_titles.csv and amazon_prime_titles.csv datasets:': 'Atributos em comum para os datasets netflix_titles.csv e amazon_prime_titles.csv'}, inplace=True)\n",
    "dfa"
   ]
  },
  {
   "cell_type": "code",
   "execution_count": 214,
   "metadata": {},
   "outputs": [],
   "source": [
    "#leitura das bases amazon e netflix#\n",
    "\n",
    "dfamazon = pd.read_csv('amazon_prime_titles.csv')\n",
    "dfamazon.insert(2, 'Empresa','Amazon')\n",
    "dfnetflix = pd.read_csv('netflix_titles.csv')\n",
    "dfnetflix.insert(2, 'Empresa','Netflix')\n",
    "\n",
    "#conferencia do tipo de dados das fontes\n",
    "\n",
    "'''dfamazon.dtypes\n",
    "dfnetflix.dtypes'''\n",
    "\n",
    "#concatenando as bases, definindo chave para identificação, renomeando os campos e estruturação#\n",
    "\n",
    "geral = pd.concat([dfamazon, dfnetflix], ignore_index= True)\n",
    "\n",
    "geral['id'] = geral['Empresa'] + geral['show_id']\n",
    "\n",
    "geral.rename(columns={'show_id':'id_original','type': 'Tipo', 'title': 'Titulo', 'director': 'Diretor', 'cast': 'Elenco', 'country': 'País', 'date_added': 'Data_Adicao', 'release_year': 'Lançamento', 'rating': 'Classificacao', 'duration': 'Duracao', 'listed_in': 'Genero', 'description': 'Descricao'}, inplace= True)\n",
    "\n",
    "geral['Data_Adicao'] = geral['Data_Adicao'].astype('datetime64')"
   ]
  },
  {
   "attachments": {},
   "cell_type": "markdown",
   "metadata": {},
   "source": [
    "Análise Exploratória"
   ]
  },
  {
   "attachments": {},
   "cell_type": "markdown",
   "metadata": {},
   "source": [
    "Tamanho do Dataset"
   ]
  },
  {
   "cell_type": "code",
   "execution_count": 215,
   "metadata": {},
   "outputs": [
    {
     "data": {
      "text/html": [
       "<div>\n",
       "<style scoped>\n",
       "    .dataframe tbody tr th:only-of-type {\n",
       "        vertical-align: middle;\n",
       "    }\n",
       "\n",
       "    .dataframe tbody tr th {\n",
       "        vertical-align: top;\n",
       "    }\n",
       "\n",
       "    .dataframe thead th {\n",
       "        text-align: right;\n",
       "    }\n",
       "</style>\n",
       "<table border=\"1\" class=\"dataframe\">\n",
       "  <thead>\n",
       "    <tr style=\"text-align: right;\">\n",
       "      <th></th>\n",
       "      <th>id_original</th>\n",
       "      <th>Tipo</th>\n",
       "      <th>Empresa</th>\n",
       "      <th>Titulo</th>\n",
       "      <th>Diretor</th>\n",
       "      <th>Elenco</th>\n",
       "      <th>País</th>\n",
       "      <th>Data_Adicao</th>\n",
       "      <th>Lançamento</th>\n",
       "      <th>Classificacao</th>\n",
       "      <th>Duracao</th>\n",
       "      <th>Genero</th>\n",
       "      <th>Descricao</th>\n",
       "      <th>id</th>\n",
       "    </tr>\n",
       "  </thead>\n",
       "  <tbody>\n",
       "    <tr>\n",
       "      <th>0</th>\n",
       "      <td>s1</td>\n",
       "      <td>Movie</td>\n",
       "      <td>Amazon</td>\n",
       "      <td>The Grand Seduction</td>\n",
       "      <td>Don McKellar</td>\n",
       "      <td>Brendan Gleeson, Taylor Kitsch, Gordon Pinsent</td>\n",
       "      <td>Canada</td>\n",
       "      <td>2021-03-30</td>\n",
       "      <td>2014</td>\n",
       "      <td>NaN</td>\n",
       "      <td>113 min</td>\n",
       "      <td>Comedy, Drama</td>\n",
       "      <td>A small fishing village must procure a local d...</td>\n",
       "      <td>Amazons1</td>\n",
       "    </tr>\n",
       "    <tr>\n",
       "      <th>1</th>\n",
       "      <td>s2</td>\n",
       "      <td>Movie</td>\n",
       "      <td>Amazon</td>\n",
       "      <td>Take Care Good Night</td>\n",
       "      <td>Girish Joshi</td>\n",
       "      <td>Mahesh Manjrekar, Abhay Mahajan, Sachin Khedekar</td>\n",
       "      <td>India</td>\n",
       "      <td>2021-03-30</td>\n",
       "      <td>2018</td>\n",
       "      <td>13+</td>\n",
       "      <td>110 min</td>\n",
       "      <td>Drama, International</td>\n",
       "      <td>A Metro Family decides to fight a Cyber Crimin...</td>\n",
       "      <td>Amazons2</td>\n",
       "    </tr>\n",
       "  </tbody>\n",
       "</table>\n",
       "</div>"
      ],
      "text/plain": [
       "  id_original   Tipo Empresa                Titulo       Diretor  \\\n",
       "0          s1  Movie  Amazon   The Grand Seduction  Don McKellar   \n",
       "1          s2  Movie  Amazon  Take Care Good Night  Girish Joshi   \n",
       "\n",
       "                                             Elenco    País Data_Adicao  \\\n",
       "0    Brendan Gleeson, Taylor Kitsch, Gordon Pinsent  Canada  2021-03-30   \n",
       "1  Mahesh Manjrekar, Abhay Mahajan, Sachin Khedekar   India  2021-03-30   \n",
       "\n",
       "   Lançamento Classificacao  Duracao                Genero  \\\n",
       "0        2014           NaN  113 min         Comedy, Drama   \n",
       "1        2018           13+  110 min  Drama, International   \n",
       "\n",
       "                                           Descricao        id  \n",
       "0  A small fishing village must procure a local d...  Amazons1  \n",
       "1  A Metro Family decides to fight a Cyber Crimin...  Amazons2  "
      ]
     },
     "execution_count": 215,
     "metadata": {},
     "output_type": "execute_result"
    }
   ],
   "source": [
    "geral.head(2)"
   ]
  },
  {
   "cell_type": "code",
   "execution_count": 186,
   "metadata": {},
   "outputs": [
    {
     "data": {
      "text/html": [
       "<div>\n",
       "<style scoped>\n",
       "    .dataframe tbody tr th:only-of-type {\n",
       "        vertical-align: middle;\n",
       "    }\n",
       "\n",
       "    .dataframe tbody tr th {\n",
       "        vertical-align: top;\n",
       "    }\n",
       "\n",
       "    .dataframe thead th {\n",
       "        text-align: right;\n",
       "    }\n",
       "</style>\n",
       "<table border=\"1\" class=\"dataframe\">\n",
       "  <thead>\n",
       "    <tr style=\"text-align: right;\">\n",
       "      <th></th>\n",
       "      <th>id_original</th>\n",
       "      <th>Tipo</th>\n",
       "      <th>Empresa</th>\n",
       "      <th>Titulo</th>\n",
       "      <th>Diretor</th>\n",
       "      <th>Elenco</th>\n",
       "      <th>País</th>\n",
       "      <th>Data_Adicao</th>\n",
       "      <th>Lançamento</th>\n",
       "      <th>Classificacao</th>\n",
       "      <th>Duracao</th>\n",
       "      <th>Genero</th>\n",
       "      <th>Descricao</th>\n",
       "      <th>id</th>\n",
       "    </tr>\n",
       "  </thead>\n",
       "  <tbody>\n",
       "    <tr>\n",
       "      <th>18473</th>\n",
       "      <td>s8806</td>\n",
       "      <td>Movie</td>\n",
       "      <td>Netflix</td>\n",
       "      <td>Zoom</td>\n",
       "      <td>Peter Hewitt</td>\n",
       "      <td>Tim Allen, Courteney Cox, Chevy Chase, Kate Ma...</td>\n",
       "      <td>United States</td>\n",
       "      <td>2020-01-11</td>\n",
       "      <td>2006</td>\n",
       "      <td>PG</td>\n",
       "      <td>88 min</td>\n",
       "      <td>Children &amp; Family Movies, Comedies</td>\n",
       "      <td>Dragged from civilian life, a former superhero...</td>\n",
       "      <td>Netflixs8806</td>\n",
       "    </tr>\n",
       "    <tr>\n",
       "      <th>18474</th>\n",
       "      <td>s8807</td>\n",
       "      <td>Movie</td>\n",
       "      <td>Netflix</td>\n",
       "      <td>Zubaan</td>\n",
       "      <td>Mozez Singh</td>\n",
       "      <td>Vicky Kaushal, Sarah-Jane Dias, Raaghav Chanan...</td>\n",
       "      <td>India</td>\n",
       "      <td>2019-03-02</td>\n",
       "      <td>2015</td>\n",
       "      <td>TV-14</td>\n",
       "      <td>111 min</td>\n",
       "      <td>Dramas, International Movies, Music &amp; Musicals</td>\n",
       "      <td>A scrappy but poor boy worms his way into a ty...</td>\n",
       "      <td>Netflixs8807</td>\n",
       "    </tr>\n",
       "  </tbody>\n",
       "</table>\n",
       "</div>"
      ],
      "text/plain": [
       "      id_original   Tipo  Empresa  Titulo       Diretor  \\\n",
       "18473       s8806  Movie  Netflix    Zoom  Peter Hewitt   \n",
       "18474       s8807  Movie  Netflix  Zubaan   Mozez Singh   \n",
       "\n",
       "                                                  Elenco           País  \\\n",
       "18473  Tim Allen, Courteney Cox, Chevy Chase, Kate Ma...  United States   \n",
       "18474  Vicky Kaushal, Sarah-Jane Dias, Raaghav Chanan...          India   \n",
       "\n",
       "      Data_Adicao  Lançamento Classificacao  Duracao  \\\n",
       "18473  2020-01-11        2006            PG   88 min   \n",
       "18474  2019-03-02        2015         TV-14  111 min   \n",
       "\n",
       "                                               Genero  \\\n",
       "18473              Children & Family Movies, Comedies   \n",
       "18474  Dramas, International Movies, Music & Musicals   \n",
       "\n",
       "                                               Descricao            id  \n",
       "18473  Dragged from civilian life, a former superhero...  Netflixs8806  \n",
       "18474  A scrappy but poor boy worms his way into a ty...  Netflixs8807  "
      ]
     },
     "execution_count": 186,
     "metadata": {},
     "output_type": "execute_result"
    }
   ],
   "source": [
    "geral.tail(2)"
   ]
  },
  {
   "cell_type": "code",
   "execution_count": 187,
   "metadata": {},
   "outputs": [
    {
     "data": {
      "text/plain": [
       "(18475, 14)"
      ]
     },
     "execution_count": 187,
     "metadata": {},
     "output_type": "execute_result"
    }
   ],
   "source": [
    "geral.shape"
   ]
  },
  {
   "cell_type": "code",
   "execution_count": 188,
   "metadata": {},
   "outputs": [
    {
     "data": {
      "text/html": [
       "<div>\n",
       "<style scoped>\n",
       "    .dataframe tbody tr th:only-of-type {\n",
       "        vertical-align: middle;\n",
       "    }\n",
       "\n",
       "    .dataframe tbody tr th {\n",
       "        vertical-align: top;\n",
       "    }\n",
       "\n",
       "    .dataframe thead th {\n",
       "        text-align: right;\n",
       "    }\n",
       "</style>\n",
       "<table border=\"1\" class=\"dataframe\">\n",
       "  <thead>\n",
       "    <tr style=\"text-align: right;\">\n",
       "      <th></th>\n",
       "      <th>id_original</th>\n",
       "      <th>Tipo</th>\n",
       "      <th>Empresa</th>\n",
       "      <th>Titulo</th>\n",
       "      <th>Diretor</th>\n",
       "      <th>Elenco</th>\n",
       "      <th>País</th>\n",
       "      <th>Data_Adicao</th>\n",
       "      <th>Lançamento</th>\n",
       "      <th>Classificacao</th>\n",
       "      <th>Duracao</th>\n",
       "      <th>Genero</th>\n",
       "      <th>Descricao</th>\n",
       "      <th>id</th>\n",
       "    </tr>\n",
       "  </thead>\n",
       "  <tbody>\n",
       "    <tr>\n",
       "      <th>0</th>\n",
       "      <td>s1</td>\n",
       "      <td>Movie</td>\n",
       "      <td>Amazon</td>\n",
       "      <td>The Grand Seduction</td>\n",
       "      <td>Don McKellar</td>\n",
       "      <td>Brendan Gleeson, Taylor Kitsch, Gordon Pinsent</td>\n",
       "      <td>Canada</td>\n",
       "      <td>2021-03-30</td>\n",
       "      <td>2014</td>\n",
       "      <td>NaN</td>\n",
       "      <td>113 min</td>\n",
       "      <td>Comedy, Drama</td>\n",
       "      <td>A small fishing village must procure a local d...</td>\n",
       "      <td>Amazons1</td>\n",
       "    </tr>\n",
       "    <tr>\n",
       "      <th>1</th>\n",
       "      <td>s2</td>\n",
       "      <td>Movie</td>\n",
       "      <td>Amazon</td>\n",
       "      <td>Take Care Good Night</td>\n",
       "      <td>Girish Joshi</td>\n",
       "      <td>Mahesh Manjrekar, Abhay Mahajan, Sachin Khedekar</td>\n",
       "      <td>India</td>\n",
       "      <td>2021-03-30</td>\n",
       "      <td>2018</td>\n",
       "      <td>13+</td>\n",
       "      <td>110 min</td>\n",
       "      <td>Drama, International</td>\n",
       "      <td>A Metro Family decides to fight a Cyber Crimin...</td>\n",
       "      <td>Amazons2</td>\n",
       "    </tr>\n",
       "    <tr>\n",
       "      <th>2</th>\n",
       "      <td>s3</td>\n",
       "      <td>Movie</td>\n",
       "      <td>Amazon</td>\n",
       "      <td>Secrets of Deception</td>\n",
       "      <td>Josh Webber</td>\n",
       "      <td>Tom Sizemore, Lorenzo Lamas, Robert LaSardo, R...</td>\n",
       "      <td>United States</td>\n",
       "      <td>2021-03-30</td>\n",
       "      <td>2017</td>\n",
       "      <td>NaN</td>\n",
       "      <td>74 min</td>\n",
       "      <td>Action, Drama, Suspense</td>\n",
       "      <td>After a man discovers his wife is cheating on ...</td>\n",
       "      <td>Amazons3</td>\n",
       "    </tr>\n",
       "    <tr>\n",
       "      <th>3</th>\n",
       "      <td>s4</td>\n",
       "      <td>Movie</td>\n",
       "      <td>Amazon</td>\n",
       "      <td>Pink: Staying True</td>\n",
       "      <td>Sonia Anderson</td>\n",
       "      <td>Interviews with: Pink, Adele, Beyoncé, Britney...</td>\n",
       "      <td>United States</td>\n",
       "      <td>2021-03-30</td>\n",
       "      <td>2014</td>\n",
       "      <td>NaN</td>\n",
       "      <td>69 min</td>\n",
       "      <td>Documentary</td>\n",
       "      <td>Pink breaks the mold once again, bringing her ...</td>\n",
       "      <td>Amazons4</td>\n",
       "    </tr>\n",
       "    <tr>\n",
       "      <th>4</th>\n",
       "      <td>s5</td>\n",
       "      <td>Movie</td>\n",
       "      <td>Amazon</td>\n",
       "      <td>Monster Maker</td>\n",
       "      <td>Giles Foster</td>\n",
       "      <td>Harry Dean Stanton, Kieran O'Brien, George Cos...</td>\n",
       "      <td>United Kingdom</td>\n",
       "      <td>2021-03-30</td>\n",
       "      <td>1989</td>\n",
       "      <td>NaN</td>\n",
       "      <td>45 min</td>\n",
       "      <td>Drama, Fantasy</td>\n",
       "      <td>Teenage Matt Banting wants to work with a famo...</td>\n",
       "      <td>Amazons5</td>\n",
       "    </tr>\n",
       "    <tr>\n",
       "      <th>...</th>\n",
       "      <td>...</td>\n",
       "      <td>...</td>\n",
       "      <td>...</td>\n",
       "      <td>...</td>\n",
       "      <td>...</td>\n",
       "      <td>...</td>\n",
       "      <td>...</td>\n",
       "      <td>...</td>\n",
       "      <td>...</td>\n",
       "      <td>...</td>\n",
       "      <td>...</td>\n",
       "      <td>...</td>\n",
       "      <td>...</td>\n",
       "      <td>...</td>\n",
       "    </tr>\n",
       "    <tr>\n",
       "      <th>18470</th>\n",
       "      <td>s8803</td>\n",
       "      <td>Movie</td>\n",
       "      <td>Netflix</td>\n",
       "      <td>Zodiac</td>\n",
       "      <td>David Fincher</td>\n",
       "      <td>Mark Ruffalo, Jake Gyllenhaal, Robert Downey J...</td>\n",
       "      <td>United States</td>\n",
       "      <td>2019-11-20</td>\n",
       "      <td>2007</td>\n",
       "      <td>R</td>\n",
       "      <td>158 min</td>\n",
       "      <td>Cult Movies, Dramas, Thrillers</td>\n",
       "      <td>A political cartoonist, a crime reporter and a...</td>\n",
       "      <td>Netflixs8803</td>\n",
       "    </tr>\n",
       "    <tr>\n",
       "      <th>18471</th>\n",
       "      <td>s8804</td>\n",
       "      <td>TV Show</td>\n",
       "      <td>Netflix</td>\n",
       "      <td>Zombie Dumb</td>\n",
       "      <td>NaN</td>\n",
       "      <td>NaN</td>\n",
       "      <td>NaN</td>\n",
       "      <td>2019-07-01</td>\n",
       "      <td>2018</td>\n",
       "      <td>TV-Y7</td>\n",
       "      <td>2 Seasons</td>\n",
       "      <td>Kids' TV, Korean TV Shows, TV Comedies</td>\n",
       "      <td>While living alone in a spooky town, a young g...</td>\n",
       "      <td>Netflixs8804</td>\n",
       "    </tr>\n",
       "    <tr>\n",
       "      <th>18472</th>\n",
       "      <td>s8805</td>\n",
       "      <td>Movie</td>\n",
       "      <td>Netflix</td>\n",
       "      <td>Zombieland</td>\n",
       "      <td>Ruben Fleischer</td>\n",
       "      <td>Jesse Eisenberg, Woody Harrelson, Emma Stone, ...</td>\n",
       "      <td>United States</td>\n",
       "      <td>2019-11-01</td>\n",
       "      <td>2009</td>\n",
       "      <td>R</td>\n",
       "      <td>88 min</td>\n",
       "      <td>Comedies, Horror Movies</td>\n",
       "      <td>Looking to survive in a world taken over by zo...</td>\n",
       "      <td>Netflixs8805</td>\n",
       "    </tr>\n",
       "    <tr>\n",
       "      <th>18473</th>\n",
       "      <td>s8806</td>\n",
       "      <td>Movie</td>\n",
       "      <td>Netflix</td>\n",
       "      <td>Zoom</td>\n",
       "      <td>Peter Hewitt</td>\n",
       "      <td>Tim Allen, Courteney Cox, Chevy Chase, Kate Ma...</td>\n",
       "      <td>United States</td>\n",
       "      <td>2020-01-11</td>\n",
       "      <td>2006</td>\n",
       "      <td>PG</td>\n",
       "      <td>88 min</td>\n",
       "      <td>Children &amp; Family Movies, Comedies</td>\n",
       "      <td>Dragged from civilian life, a former superhero...</td>\n",
       "      <td>Netflixs8806</td>\n",
       "    </tr>\n",
       "    <tr>\n",
       "      <th>18474</th>\n",
       "      <td>s8807</td>\n",
       "      <td>Movie</td>\n",
       "      <td>Netflix</td>\n",
       "      <td>Zubaan</td>\n",
       "      <td>Mozez Singh</td>\n",
       "      <td>Vicky Kaushal, Sarah-Jane Dias, Raaghav Chanan...</td>\n",
       "      <td>India</td>\n",
       "      <td>2019-03-02</td>\n",
       "      <td>2015</td>\n",
       "      <td>TV-14</td>\n",
       "      <td>111 min</td>\n",
       "      <td>Dramas, International Movies, Music &amp; Musicals</td>\n",
       "      <td>A scrappy but poor boy worms his way into a ty...</td>\n",
       "      <td>Netflixs8807</td>\n",
       "    </tr>\n",
       "  </tbody>\n",
       "</table>\n",
       "<p>18475 rows × 14 columns</p>\n",
       "</div>"
      ],
      "text/plain": [
       "      id_original     Tipo  Empresa                Titulo          Diretor  \\\n",
       "0              s1    Movie   Amazon   The Grand Seduction     Don McKellar   \n",
       "1              s2    Movie   Amazon  Take Care Good Night     Girish Joshi   \n",
       "2              s3    Movie   Amazon  Secrets of Deception      Josh Webber   \n",
       "3              s4    Movie   Amazon    Pink: Staying True   Sonia Anderson   \n",
       "4              s5    Movie   Amazon         Monster Maker     Giles Foster   \n",
       "...           ...      ...      ...                   ...              ...   \n",
       "18470       s8803    Movie  Netflix                Zodiac    David Fincher   \n",
       "18471       s8804  TV Show  Netflix           Zombie Dumb              NaN   \n",
       "18472       s8805    Movie  Netflix            Zombieland  Ruben Fleischer   \n",
       "18473       s8806    Movie  Netflix                  Zoom     Peter Hewitt   \n",
       "18474       s8807    Movie  Netflix                Zubaan      Mozez Singh   \n",
       "\n",
       "                                                  Elenco            País  \\\n",
       "0         Brendan Gleeson, Taylor Kitsch, Gordon Pinsent          Canada   \n",
       "1       Mahesh Manjrekar, Abhay Mahajan, Sachin Khedekar           India   \n",
       "2      Tom Sizemore, Lorenzo Lamas, Robert LaSardo, R...   United States   \n",
       "3      Interviews with: Pink, Adele, Beyoncé, Britney...   United States   \n",
       "4      Harry Dean Stanton, Kieran O'Brien, George Cos...  United Kingdom   \n",
       "...                                                  ...             ...   \n",
       "18470  Mark Ruffalo, Jake Gyllenhaal, Robert Downey J...   United States   \n",
       "18471                                                NaN             NaN   \n",
       "18472  Jesse Eisenberg, Woody Harrelson, Emma Stone, ...   United States   \n",
       "18473  Tim Allen, Courteney Cox, Chevy Chase, Kate Ma...   United States   \n",
       "18474  Vicky Kaushal, Sarah-Jane Dias, Raaghav Chanan...           India   \n",
       "\n",
       "      Data_Adicao  Lançamento Classificacao    Duracao  \\\n",
       "0      2021-03-30        2014           NaN    113 min   \n",
       "1      2021-03-30        2018           13+    110 min   \n",
       "2      2021-03-30        2017           NaN     74 min   \n",
       "3      2021-03-30        2014           NaN     69 min   \n",
       "4      2021-03-30        1989           NaN     45 min   \n",
       "...           ...         ...           ...        ...   \n",
       "18470  2019-11-20        2007             R    158 min   \n",
       "18471  2019-07-01        2018         TV-Y7  2 Seasons   \n",
       "18472  2019-11-01        2009             R     88 min   \n",
       "18473  2020-01-11        2006            PG     88 min   \n",
       "18474  2019-03-02        2015         TV-14    111 min   \n",
       "\n",
       "                                               Genero  \\\n",
       "0                                       Comedy, Drama   \n",
       "1                                Drama, International   \n",
       "2                             Action, Drama, Suspense   \n",
       "3                                         Documentary   \n",
       "4                                      Drama, Fantasy   \n",
       "...                                               ...   \n",
       "18470                  Cult Movies, Dramas, Thrillers   \n",
       "18471          Kids' TV, Korean TV Shows, TV Comedies   \n",
       "18472                         Comedies, Horror Movies   \n",
       "18473              Children & Family Movies, Comedies   \n",
       "18474  Dramas, International Movies, Music & Musicals   \n",
       "\n",
       "                                               Descricao            id  \n",
       "0      A small fishing village must procure a local d...      Amazons1  \n",
       "1      A Metro Family decides to fight a Cyber Crimin...      Amazons2  \n",
       "2      After a man discovers his wife is cheating on ...      Amazons3  \n",
       "3      Pink breaks the mold once again, bringing her ...      Amazons4  \n",
       "4      Teenage Matt Banting wants to work with a famo...      Amazons5  \n",
       "...                                                  ...           ...  \n",
       "18470  A political cartoonist, a crime reporter and a...  Netflixs8803  \n",
       "18471  While living alone in a spooky town, a young g...  Netflixs8804  \n",
       "18472  Looking to survive in a world taken over by zo...  Netflixs8805  \n",
       "18473  Dragged from civilian life, a former superhero...  Netflixs8806  \n",
       "18474  A scrappy but poor boy worms his way into a ty...  Netflixs8807  \n",
       "\n",
       "[18475 rows x 14 columns]"
      ]
     },
     "metadata": {},
     "output_type": "display_data"
    }
   ],
   "source": [
    "display(geral)"
   ]
  },
  {
   "cell_type": "markdown",
   "metadata": {},
   "source": [
    "Descobrindo o período da análise"
   ]
  },
  {
   "cell_type": "code",
   "execution_count": 179,
   "metadata": {},
   "outputs": [
    {
     "name": "stdout",
     "output_type": "stream",
     "text": [
      "2008-01-01\n"
     ]
    },
    {
     "name": "stderr",
     "output_type": "stream",
     "text": [
      "C:\\Users\\T-Gamer\\AppData\\Local\\Temp\\ipykernel_7568\\3646103312.py:2: FutureWarning: Comparison of NaT with datetime.date is deprecated in order to match the standard library behavior.  In a future version these will be considered non-comparable.\n",
      "  print(min(inicio))\n"
     ]
    }
   ],
   "source": [
    "inicio = pd.to_datetime(geral['Data_Adicao']).dt.date\n",
    "print(min(inicio))"
   ]
  },
  {
   "cell_type": "code",
   "execution_count": 178,
   "metadata": {},
   "outputs": [
    {
     "name": "stdout",
     "output_type": "stream",
     "text": [
      "2021-10-10\n"
     ]
    },
    {
     "name": "stderr",
     "output_type": "stream",
     "text": [
      "C:\\Users\\T-Gamer\\AppData\\Local\\Temp\\ipykernel_7568\\3549609665.py:2: FutureWarning: Comparison of NaT with datetime.date is deprecated in order to match the standard library behavior.  In a future version these will be considered non-comparable.\n",
      "  print(max(inicio))\n"
     ]
    }
   ],
   "source": [
    "fim = pd.to_datetime(geral['Data_Adicao']).dt.date\n",
    "print(max(inicio))"
   ]
  },
  {
   "attachments": {},
   "cell_type": "markdown",
   "metadata": {},
   "source": [
    "Valores nulos e tipos de dados"
   ]
  },
  {
   "cell_type": "code",
   "execution_count": 189,
   "metadata": {},
   "outputs": [
    {
     "name": "stdout",
     "output_type": "stream",
     "text": [
      "<class 'pandas.core.frame.DataFrame'>\n",
      "RangeIndex: 18475 entries, 0 to 18474\n",
      "Data columns (total 14 columns):\n",
      " #   Column         Non-Null Count  Dtype         \n",
      "---  ------         --------------  -----         \n",
      " 0   id_original    18475 non-null  object        \n",
      " 1   Tipo           18475 non-null  object        \n",
      " 2   Empresa        18475 non-null  object        \n",
      " 3   Titulo         18475 non-null  object        \n",
      " 4   Diretor        13759 non-null  object        \n",
      " 5   Elenco         16417 non-null  object        \n",
      " 6   País           8648 non-null   object        \n",
      " 7   Data_Adicao    8952 non-null   datetime64[ns]\n",
      " 8   Lançamento     18475 non-null  int64         \n",
      " 9   Classificacao  18134 non-null  object        \n",
      " 10  Duracao        18472 non-null  object        \n",
      " 11  Genero         18475 non-null  object        \n",
      " 12  Descricao      18475 non-null  object        \n",
      " 13  id             18475 non-null  object        \n",
      "dtypes: datetime64[ns](1), int64(1), object(12)\n",
      "memory usage: 2.0+ MB\n"
     ]
    }
   ],
   "source": [
    "geral.info()"
   ]
  },
  {
   "attachments": {},
   "cell_type": "markdown",
   "metadata": {},
   "source": [
    "Verificando o tipo dos dados"
   ]
  },
  {
   "cell_type": "code",
   "execution_count": 190,
   "metadata": {},
   "outputs": [
    {
     "data": {
      "text/plain": [
       "id_original              object\n",
       "Tipo                     object\n",
       "Empresa                  object\n",
       "Titulo                   object\n",
       "Diretor                  object\n",
       "Elenco                   object\n",
       "País                     object\n",
       "Data_Adicao      datetime64[ns]\n",
       "Lançamento                int64\n",
       "Classificacao            object\n",
       "Duracao                  object\n",
       "Genero                   object\n",
       "Descricao                object\n",
       "id                       object\n",
       "dtype: object"
      ]
     },
     "execution_count": 190,
     "metadata": {},
     "output_type": "execute_result"
    }
   ],
   "source": [
    "geral.dtypes"
   ]
  },
  {
   "attachments": {},
   "cell_type": "markdown",
   "metadata": {},
   "source": [
    "Verificando a existência de valores nulos"
   ]
  },
  {
   "cell_type": "code",
   "execution_count": 191,
   "metadata": {},
   "outputs": [
    {
     "data": {
      "text/plain": [
       "id_original         0\n",
       "Tipo                0\n",
       "Empresa             0\n",
       "Titulo              0\n",
       "Diretor          4716\n",
       "Elenco           2058\n",
       "País             9827\n",
       "Data_Adicao      9523\n",
       "Lançamento          0\n",
       "Classificacao     341\n",
       "Duracao             3\n",
       "Genero              0\n",
       "Descricao           0\n",
       "id                  0\n",
       "dtype: int64"
      ]
     },
     "execution_count": 191,
     "metadata": {},
     "output_type": "execute_result"
    }
   ],
   "source": [
    "geral.isnull().sum()"
   ]
  },
  {
   "attachments": {},
   "cell_type": "markdown",
   "metadata": {},
   "source": [
    "Analisando as informações estatísticas"
   ]
  },
  {
   "cell_type": "code",
   "execution_count": 194,
   "metadata": {},
   "outputs": [
    {
     "data": {
      "text/html": [
       "<div>\n",
       "<style scoped>\n",
       "    .dataframe tbody tr th:only-of-type {\n",
       "        vertical-align: middle;\n",
       "    }\n",
       "\n",
       "    .dataframe tbody tr th {\n",
       "        vertical-align: top;\n",
       "    }\n",
       "\n",
       "    .dataframe thead th {\n",
       "        text-align: right;\n",
       "    }\n",
       "</style>\n",
       "<table border=\"1\" class=\"dataframe\">\n",
       "  <thead>\n",
       "    <tr style=\"text-align: right;\">\n",
       "      <th></th>\n",
       "      <th>Lançamento</th>\n",
       "    </tr>\n",
       "  </thead>\n",
       "  <tbody>\n",
       "    <tr>\n",
       "      <th>count</th>\n",
       "      <td>18475.000000</td>\n",
       "    </tr>\n",
       "    <tr>\n",
       "      <th>mean</th>\n",
       "      <td>2011.124980</td>\n",
       "    </tr>\n",
       "    <tr>\n",
       "      <th>std</th>\n",
       "      <td>15.262484</td>\n",
       "    </tr>\n",
       "    <tr>\n",
       "      <th>min</th>\n",
       "      <td>1920.000000</td>\n",
       "    </tr>\n",
       "    <tr>\n",
       "      <th>25%</th>\n",
       "      <td>2011.000000</td>\n",
       "    </tr>\n",
       "    <tr>\n",
       "      <th>50%</th>\n",
       "      <td>2017.000000</td>\n",
       "    </tr>\n",
       "    <tr>\n",
       "      <th>75%</th>\n",
       "      <td>2019.000000</td>\n",
       "    </tr>\n",
       "    <tr>\n",
       "      <th>max</th>\n",
       "      <td>2021.000000</td>\n",
       "    </tr>\n",
       "  </tbody>\n",
       "</table>\n",
       "</div>"
      ],
      "text/plain": [
       "         Lançamento\n",
       "count  18475.000000\n",
       "mean    2011.124980\n",
       "std       15.262484\n",
       "min     1920.000000\n",
       "25%     2011.000000\n",
       "50%     2017.000000\n",
       "75%     2019.000000\n",
       "max     2021.000000"
      ]
     },
     "execution_count": 194,
     "metadata": {},
     "output_type": "execute_result"
    }
   ],
   "source": [
    "geral.describe()"
   ]
  },
  {
   "cell_type": "markdown",
   "metadata": {},
   "source": [
    "Filtrar os dados"
   ]
  },
  {
   "attachments": {},
   "cell_type": "markdown",
   "metadata": {},
   "source": [
    "1 - Top 10 atores/atrizes considerando todos os dados"
   ]
  },
  {
   "cell_type": "code",
   "execution_count": 220,
   "metadata": {},
   "outputs": [
    {
     "data": {
      "text/plain": [
       "Maggie Binkley       56\n",
       " Anupam Kher         55\n",
       " Nassar              43\n",
       "Shah Rukh Khan       35\n",
       "1                    35\n",
       " Paresh Rawal        35\n",
       " Om Puri             32\n",
       "Gene Autry           32\n",
       " Prakash Raj         32\n",
       " Takahiro Sakurai    31\n",
       " Rupa Bhimani        31\n",
       "Akshay Kumar         30\n",
       " Danny Trejo         30\n",
       "Amitabh Bachchan     29\n",
       " Champion            29\n",
       " Michael Madsen      29\n",
       " Boman Irani         28\n",
       " Julie Tejwani       28\n",
       " Yuki Kaji           26\n",
       " Rajesh Kava         26\n",
       "Name: Elenco, dtype: int64"
      ]
     },
     "execution_count": 220,
     "metadata": {},
     "output_type": "execute_result"
    }
   ],
   "source": [
    "geral_elenco = geral.assign(Elenco = geral['Elenco'].str.split(',')).explode('Elenco')\n",
    "geral_elenco['Elenco'].value_counts().head(10)"
   ]
  },
  {
   "cell_type": "code",
   "execution_count": 241,
   "metadata": {},
   "outputs": [
    {
     "data": {
      "text/plain": [
       "<AxesSubplot:>"
      ]
     },
     "execution_count": 241,
     "metadata": {},
     "output_type": "execute_result"
    },
    {
     "data": {
      "image/png": "[encoded data removed]",
      "text/plain": [
       "<Figure size 1000x500 with 1 Axes>"
      ]
     },
     "metadata": {},
     "output_type": "display_data"
    }
   ],
   "source": [
    "fig, ax_01 = plt.subplots(figsize=(10,5))\n",
    "geral_elenco.Elenco.value_counts().head(10).plot(kind=\"bar\", ax=ax_01)"
   ]
  }
 ],
 "metadata": {
  "kernelspec": {
   "display_name": "Python 3",
   "language": "python",
   "name": "python3"
  },
  "language_info": {
   "codemirror_mode": {
    "name": "ipython",
    "version": 3
   },
   "file_extension": ".py",
   "mimetype": "text/x-python",
   "name": "python",
   "nbconvert_exporter": "python",
   "pygments_lexer": "ipython3",
   "version": "3.9.4"
  },
  "orig_nbformat": 4,
  "vscode": {
   "interpreter": {
    "hash": "9888bc5e86fce7c5db94033484b579581cabefcb12cbc2bb66b14e354aa8fb77"
   }
  }
 },
 "nbformat": 4,
 "nbformat_minor": 2
}
